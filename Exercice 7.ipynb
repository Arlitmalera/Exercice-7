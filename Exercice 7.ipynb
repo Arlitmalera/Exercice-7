{
 "cells": [
  {
   "cell_type": "markdown",
   "id": "b06ced42",
   "metadata": {},
   "source": [
    "Après avoir visionné cette vidéo ci-dessous, vous pourrez :\n",
    "\n",
    "https://www.youtube.com/watch?v=YY5skv756pc\n",
    "\n",
    "1.1) Écrire une fonction pour obtenir et analyser le contenu html d'une page Wikipedia\n",
    "\n",
    "1.2) Écrire une fonction pour extraire le titre de l'article\n",
    "\n",
    "1.3) Écrivez une fonction pour extraire le texte de l'article pour chaque paragraphe avec leurs\n",
    "\n",
    "rubriques. Associez ces titres à leurs paragraphes respectifs dans le dictionnaire.\n",
    "\n",
    "1.4) Écrire une fonction pour collecter chaque lien qui redirige vers une autre page Wikipédia\n",
    "\n",
    "1.5) Enveloppez toutes les fonctions précédentes dans une seule fonction qui prend comme paramètres un lien Wikipedia\n",
    "\n",
    "1.6) Testez la dernière fonction sur une page Wikipédia de votre choix"
   ]
  },
  {
   "cell_type": "code",
   "execution_count": 4,
   "id": "cc805996",
   "metadata": {},
   "outputs": [],
   "source": [
    "import requests\n",
    "from bs4 import BeautifulSoup\n",
    "\n",
    "def get_wikipedia_content(page_title):\n",
    "    url = f\"https://en.wikipedia.org/wiki/{page_title}\"\n",
    "    \n",
    "    response = requests.get(url)\n",
    "    html_content = response.content\n",
    "    \n",
    "    soup = BeautifulSoup(html_content, 'html.parser')\n",
    "    return soup"
   ]
  },
  {
   "cell_type": "code",
   "execution_count": 6,
   "id": "585384db",
   "metadata": {},
   "outputs": [],
   "source": [
    "def get_article_title(page_title):\n",
    "\n",
    "    soup = get_wikipedia_content(page_title)\n",
    "    \n",
    "    title_element = soup.find(\"title\")\n",
    "    title = title_element.text.strip()\n",
    "\n",
    "    return title\n"
   ]
  },
  {
   "cell_type": "code",
   "execution_count": 7,
   "id": "cbdb999a",
   "metadata": {},
   "outputs": [],
   "source": [
    "def get_article_text(page_title):\n",
    "\n",
    "    soup = get_wikipedia_content(page_title)\n",
    "\n",
    "    content_element = soup.find(\"div\", {\"class\": \"mw-parser-output\"})\n",
    "\n",
    "    article_text = []\n",
    "    current_heading = None\n",
    "    for element in content_element.children:\n",
    "        \n",
    "        if element.name in [\"h1\", \"h2\", \"h3\", \"h4\", \"h5\", \"h6\"]:\n",
    "            current_heading = element.text.strip()\n",
    "        \n",
    "        elif element.name == \"p\":\n",
    "            text = element.text.strip()\n",
    "            \n",
    "            if text:\n",
    "                article_text.append((current_heading, text))\n",
    "\n",
    "    \n",
    "    return article_text"
   ]
  },
  {
   "cell_type": "code",
   "execution_count": 10,
   "id": "e82e1fa2",
   "metadata": {},
   "outputs": [
    {
     "ename": "SyntaxError",
     "evalue": "invalid syntax (2897895553.py, line 1)",
     "output_type": "error",
     "traceback": [
      "\u001b[1;36m  File \u001b[1;32m\"C:\\Users\\MALERA ARLY\\AppData\\Local\\Temp\\ipykernel_4748\\2897895553.py\"\u001b[1;36m, line \u001b[1;32m1\u001b[0m\n\u001b[1;33m    def get_redirect_links\u001b[0m\n\u001b[1;37m                          ^\u001b[0m\n\u001b[1;31mSyntaxError\u001b[0m\u001b[1;31m:\u001b[0m invalid syntax\n"
     ]
    }
   ],
   "source": [
    "def get_redirect_links\n",
    "\n",
    "    soup = get_wikipedia_content(page_title)\n",
    "\n",
    "    link_elements = soup.find_all(\"a\", href=lambda href: href and href.startswith(\"/wiki/\"))\n",
    "\n",
    "    redirect_links = []\n",
    "    for link_element in link_elements:\n",
    "        href = link_element[\"href\"]\n",
    "    \n",
    "        if \":\" not in href and \"#\" not in href:\n",
    "            redirect_links.append(href)\n",
    "\n",
    "    return redirect_links\n"
   ]
  },
  {
   "cell_type": "code",
   "execution_count": null,
   "id": "6f735750",
   "metadata": {},
   "outputs": [],
   "source": [
    "wikipedia_link = \"https://en.wikipedia.org/wiki/Albert_Einstein\"\n",
    "wikipedia_data = get_wikipedia_data(wikipedia_link)\n",
    "\n",
    "print(wikipedia_data[\"article_title\"])\n",
    "\n",
    "for heading, text in wikipedia_data[\"article_text\"]:\n",
    "    print(f\"{heading}: {text}\\n\")\n",
    "\n",
    "print(wikipedia_data[\"redirect_links\"])\n"
   ]
  }
 ],
 "metadata": {
  "kernelspec": {
   "display_name": "Python 3 (ipykernel)",
   "language": "python",
   "name": "python3"
  },
  "language_info": {
   "codemirror_mode": {
    "name": "ipython",
    "version": 3
   },
   "file_extension": ".py",
   "mimetype": "text/x-python",
   "name": "python",
   "nbconvert_exporter": "python",
   "pygments_lexer": "ipython3",
   "version": "3.9.13"
  }
 },
 "nbformat": 4,
 "nbformat_minor": 5
}
